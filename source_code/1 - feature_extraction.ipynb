{
 "cells": [
  {
   "cell_type": "markdown",
   "metadata": {},
   "source": [
    "# Import libraries"
   ]
  },
  {
   "cell_type": "code",
   "execution_count": 1,
   "metadata": {},
   "outputs": [
    {
     "name": "stderr",
     "output_type": "stream",
     "text": [
      "[nltk_data] Downloading package stopwords to\n",
      "[nltk_data]     C:\\Users\\ASUS\\AppData\\Roaming\\nltk_data...\n",
      "[nltk_data]   Package stopwords is already up-to-date!\n",
      "[nltk_data] Downloading package punkt to\n",
      "[nltk_data]     C:\\Users\\ASUS\\AppData\\Roaming\\nltk_data...\n",
      "[nltk_data]   Package punkt is already up-to-date!\n",
      "[nltk_data] Downloading package wordnet to\n",
      "[nltk_data]     C:\\Users\\ASUS\\AppData\\Roaming\\nltk_data...\n",
      "[nltk_data]   Package wordnet is already up-to-date!\n"
     ]
    }
   ],
   "source": [
    "import pandas as pd\n",
    "import numpy as np\n",
    "import matplotlib.pyplot as plt\n",
    "import re\n",
    "import scipy\n",
    "import sklearn\n",
    "import math\n",
    "%matplotlib inline\n",
    "import seaborn as sns\n",
    "from collections import Counter, defaultdict\n",
    "\n",
    "# Text Library\n",
    "import nltk\n",
    "from nltk.corpus import stopwords\n",
    "from nltk.tokenize import word_tokenize\n",
    "from nltk.corpus import stopwords\n",
    "nltk.download('stopwords')\n",
    "nltk.download('punkt')\n",
    "nltk.download('wordnet')\n",
    "stop_words = set(stopwords.words('english'))\n",
    "\n",
    "from nltk.stem import PorterStemmer\n",
    "from nltk.stem import WordNetLemmatizer\n",
    "\n",
    "# Splitting Data\n",
    "from sklearn.model_selection import train_test_split\n",
    "\n",
    "# Import libary for TFID Vectorizer\n",
    "from sklearn.feature_extraction.text import TfidfTransformer\n",
    "from sklearn.feature_extraction.text import TfidfVectorizer\n",
    "\n",
    "# Import feature selection Libraries\n",
    "from sklearn.feature_selection import SelectKBest, chi2, f_regression, mutual_info_classif\n",
    "\n",
    "# Algorithm\n",
    "from sklearn.naive_bayes import MultinomialNB\n",
    "\n",
    "# Evaluation\n",
    "from sklearn.metrics import f1_score\n",
    "from sklearn.metrics import accuracy_score\n",
    "from sklearn.metrics import classification_report, confusion_matrix"
   ]
  },
  {
   "cell_type": "markdown",
   "metadata": {},
   "source": [
    "# Buat semua fungsi yang akan digunakan"
   ]
  },
  {
   "cell_type": "code",
   "execution_count": 2,
   "metadata": {},
   "outputs": [],
   "source": [
    "# Import dataset\n",
    "def import_data(folder, namaFile):\n",
    "    return pd.read_csv(folder+namaFile+'.csv', index_col=0)\n",
    "# Export dataset\n",
    "def export_data(dataset, namaFile):\n",
    "    return dataset.to_csv(namaFile+'.csv')"
   ]
  },
  {
   "cell_type": "code",
   "execution_count": 3,
   "metadata": {},
   "outputs": [],
   "source": [
    "# Ekstrak fitur dari dataset; Output berupa dataframe dengan fitur dan frekuensinya\n",
    "def ext_feature(dataset):\n",
    "    tokens = dataset.text.apply(lambda x: x.split())\n",
    "    words_df = pd.DataFrame(pd.Series([w for ws in list(tokens) for w in ws]).value_counts())\n",
    "    words_df.reset_index(inplace=True)\n",
    "    words_df.sort_values(by='index', inplace=True)\n",
    "    words_df.reset_index(drop=True, inplace=True)\n",
    "    words_df.rename(columns={'index':'word', 0:'freq'}, inplace=True)\n",
    "    return words_df\n",
    "\n",
    "# Buat dataset fitur semua kata dari kedua jenis data tanpa duplikat\n",
    "def get_all_w(dep_word, nonDep_word):\n",
    "    all_words = list(set(list(dep_word.word) + list(nonDep_word.word)))\n",
    "    all_words = pd.DataFrame(all_words, columns=['word']).sort_values(by='word')\n",
    "    all_words.reset_index(drop=True, inplace=True)\n",
    "    return all_words\n",
    "\n",
    "# Input: Dataset; Output: Dataframe berisi fitur2 & banyak dokumen dari masing2 label yang terdapat kata \n",
    "def ext_final_ft(dataset):\n",
    "    # Ambil fitur dari dataset dan pisahkan berdasarkan labelnya\n",
    "    data_dep = ext_feature(dataset[dataset.label == 1])\n",
    "    data_nonDep = ext_feature(dataset[dataset.label == 0])\n",
    "    \n",
    "    # Ambil fitur kata dari kedua jenis dataset dan assign frekuensi = 0\n",
    "    all_words = get_all_w(data_dep, data_nonDep)\n",
    "    all_words['freq_dep'] = 0\n",
    "    all_words['freq_nonDep'] = 0\n",
    "\n",
    "    # Ambil index dari fitur kedua jenis dataset\n",
    "    dep_idx = list(all_words[all_words.word.isin(list(data_dep.word))].index)\n",
    "    nonDep_idx = list(all_words[all_words.word.isin(list(data_nonDep.word))].index)\n",
    "    \n",
    "    # Assign frekuensi ke masing masing kata\n",
    "    all_words.loc[dep_idx, 'freq_dep'] = list(data_dep.freq)\n",
    "    all_words.loc[nonDep_idx, 'freq_nonDep'] = list(data_nonDep.freq)\n",
    "    \n",
    "    return all_words"
   ]
  },
  {
   "cell_type": "markdown",
   "metadata": {},
   "source": [
    "Import Semua Dataset"
   ]
  },
  {
   "cell_type": "code",
   "execution_count": 4,
   "metadata": {},
   "outputs": [],
   "source": [
    "# Tentukan lokasi dataset\n",
    "folder = 'C:/Users/ASUS/Documents/Learn Data Science/all_dataset/'\n",
    "# Import keempat jenis dataset\n",
    "df_ori = import_data(folder, 'df_ori')\n",
    "df_pre0 = import_data(folder, 'df_pre0')\n",
    "df_pre1 = import_data(folder, 'df_pre1')\n",
    "df_pre2 = import_data(folder, 'df_pre2')\n",
    "\n",
    "# Tentukan lokasi dataset train&test masing2 dataset\n",
    "ext_f = folder+'train_test/'\n",
    "\n",
    "train_ori = import_data(ext_f, '/ori/train_ori')\n",
    "test_ori = import_data(ext_f, '/ori/test_ori')\n",
    "\n",
    "train_pre0 = import_data(ext_f, '/pre0/train_pre0')\n",
    "test_pre0 = import_data(ext_f, '/pre0/test_pre0')\n",
    "\n",
    "train_pre1 = import_data(ext_f, '/pre1/train_pre1')\n",
    "test_pre1 = import_data(ext_f, '/pre1/test_pre1')\n",
    "\n",
    "train_pre2 = import_data(ext_f, '/pre2/train_pre2')\n",
    "test_pre2 = import_data(ext_f, '/pre2/test_pre2')\n",
    "\n",
    "# pre1 stem and lemma\n",
    "train_pre1_stemmed = import_data(ext_f, '/pre1_stemmed/train_pre1_stemmed')\n",
    "test_pre1_stemmed = import_data(ext_f, '/pre1_stemmed/test_pre1_stemmed')\n",
    "\n",
    "train_pre1_lemma = import_data(ext_f, '/pre1_lemma/train_pre1_lemma')\n",
    "test_pre1_lemma = import_data(ext_f, '/pre1_lemma/test_pre1_lemma')\n",
    "\n",
    "# pre2 stem and lemma\n",
    "train_pre2_stemmed = import_data(ext_f, '/pre2_stemmed/train_pre2_stemmed')\n",
    "test_pre2_stemmed = import_data(ext_f, '/pre2_stemmed/test_pre2_stemmed')\n",
    "\n",
    "train_pre2_lemma = import_data(ext_f, '/pre2_lemma/train_pre2_lemma')\n",
    "test_pre2_lemma = import_data(ext_f, '/pre2_lemma/test_pre2_lemma')"
   ]
  },
  {
   "cell_type": "code",
   "execution_count": 5,
   "metadata": {},
   "outputs": [
    {
     "data": {
      "text/plain": [
       "[\"I'm a final Semester MBA student who just got placed in his first job with an annual 600,000 USD package at a firm specializing in Artificial Intelligence.\"]"
      ]
     },
     "execution_count": 5,
     "metadata": {},
     "output_type": "execute_result"
    }
   ],
   "source": [
    "list(train_ori[train_ori.label==0].sample(frac=0.5).head(1).text)"
   ]
  },
  {
   "cell_type": "markdown",
   "metadata": {},
   "source": [
    "# Ekstrak semua fitur"
   ]
  },
  {
   "cell_type": "markdown",
   "metadata": {},
   "source": [
    "-- Ekstrak semua fitur kata dari train&test masing2 dataset --"
   ]
  },
  {
   "cell_type": "code",
   "execution_count": 6,
   "metadata": {},
   "outputs": [],
   "source": [
    "# df_ori\n",
    "wrd_train_ori = ext_final_ft(train_ori)\n",
    "wrd_test_ori = ext_final_ft(test_ori)\n",
    "\n",
    "# df_pre0\n",
    "wrd_train_pre0 = ext_final_ft(train_pre0)\n",
    "wrd_test_pre0 = ext_final_ft(test_pre0)\n",
    "\n",
    "# df_pre1\n",
    "wrd_train_pre1 = ext_final_ft(train_pre1)\n",
    "wrd_test_pre1 = ext_final_ft(test_pre1)\n",
    "\n",
    "# df_pre2\n",
    "wrd_train_pre2 = ext_final_ft(train_pre2)\n",
    "wrd_test_pre2 = ext_final_ft(test_pre2)\n",
    "\n",
    "#========= stemmed and lemma ============#\n",
    "\n",
    "# df_pre1_stemmed\n",
    "wrd_train_pre1_stemmed = ext_final_ft(train_pre1_stemmed)\n",
    "wrd_test_pre1_stemmed = ext_final_ft(test_pre1_stemmed)\n",
    "\n",
    "# df_pre1_lemma\n",
    "wrd_train_pre1_lemma = ext_final_ft(train_pre1_lemma)\n",
    "wrd_test_pre1_lemma= ext_final_ft(test_pre1_lemma)\n",
    "\n",
    "# df_pre2_stemmed\n",
    "wrd_train_pre2_stemmed = ext_final_ft(train_pre2_stemmed)\n",
    "wrd_test_pre2_stemmed = ext_final_ft(test_pre2_stemmed)\n",
    "\n",
    "# df_pre2_lemma\n",
    "wrd_train_pre2_lemma = ext_final_ft(train_pre2_lemma)\n",
    "wrd_test_pre2_lemma= ext_final_ft(test_pre2_lemma)"
   ]
  },
  {
   "cell_type": "markdown",
   "metadata": {},
   "source": [
    "# Export semua fitur kata menjadi file csv"
   ]
  },
  {
   "cell_type": "code",
   "execution_count": 7,
   "metadata": {},
   "outputs": [],
   "source": [
    "m_name = 'word_'\n",
    "\n",
    "# df_ori\n",
    "# export_data(wrd_train_ori, m_name+'train_ori')\n",
    "# export_data(wrd_test_ori, m_name+'test_ori')\n",
    "\n",
    "# # df_pre1\n",
    "# export_data(wrd_train_pre1, m_name+'train_pre1') \n",
    "# export_data(wrd_test_pre1, m_name+'test_pre1')  \n",
    "\n",
    "# # df_pre2\n",
    "# export_data(wrd_train_pre2, m_name+'train_pre2')\n",
    "# export_data(wrd_test_pre2, m_name+'test_pre2')\n",
    "\n",
    "# #========= stemmed and lemma ============#\n",
    "\n",
    "# # df_pre1_stemmed\n",
    "# export_data(wrd_train_pre1_stemmed, m_name+'train_pre1_stemmed')\n",
    "# export_data(wrd_test_pre1_stemmed , m_name+'test_pre1_stemmed') \n",
    "\n",
    "# # df_pre1_lemma\n",
    "# export_data(wrd_train_pre1_lemma, m_name+'train_pre1_lemma') \n",
    "# export_data(wrd_test_pre1_lemma, m_name+'test_pre1_lemma') \n",
    "\n",
    "# # df_pre2_stemmed\n",
    "# export_data(wrd_train_pre2_stemmed, m_name+'train_pre2_stemmed') \n",
    "# export_data(wrd_test_pre2_stemmed, m_name+'test_pre2_stemmed')\n",
    "\n",
    "# # df_pre2_lemma\n",
    "# export_data(wrd_train_pre2_lemma, m_name+'train_pre2_lemma')\n",
    "# export_data(wrd_test_pre2_lemma, m_name+'test_pre2_lemma')"
   ]
  },
  {
   "cell_type": "markdown",
   "metadata": {},
   "source": [
    "# Ekstrak fitur tfidf dari masing masing dataset"
   ]
  },
  {
   "cell_type": "code",
   "execution_count": 8,
   "metadata": {},
   "outputs": [],
   "source": [
    "# Convert dataset menjadi dataset dengan fitur2 tfidf\n",
    "def conv_vector(dataset):\n",
    "    X_data = dataset['text'].values\n",
    "    y_data = dataset['label'].values\n",
    "\n",
    "    # TFIDF Feature Matrix\n",
    "    tfidf_vectorizer = TfidfVectorizer(max_df=1.0, min_df=1, lowercase = False, stop_words=None)\n",
    "    # Fit transform to data train\n",
    "    tfidf_data = tfidf_vectorizer.fit_transform(X_data)\n",
    "    \n",
    "    # get the first vector out (for the first document)\n",
    "    first_vector_tfidfvectorizer=tfidf_data[0]\n",
    "\n",
    "    # place tf-idf values in a pandas data frame\n",
    "    df_fitur = pd.DataFrame(first_vector_tfidfvectorizer.T.todense(), index=tfidf_vectorizer.get_feature_names(), columns=[\"tfidf\"])\n",
    "\n",
    "    df_fitur.reset_index(level=0, inplace=True)\n",
    "    df_fitur.columns = ['feature', 'tfidf']\n",
    "    \n",
    "    return df_fitur"
   ]
  },
  {
   "cell_type": "markdown",
   "metadata": {},
   "source": [
    " -- Ekstrak fitur tfidf untuk masing masing train dan test dataset --"
   ]
  },
  {
   "cell_type": "code",
   "execution_count": 9,
   "metadata": {},
   "outputs": [],
   "source": [
    "# tfidf feature from train_ori\n",
    "tidf_train_ori = conv_vector(train_ori)\n",
    "tidf_train_ori_dep = conv_vector(train_ori[train_ori.label==1])\n",
    "tidf_train_ori_nonDep = conv_vector(train_ori[train_ori.label==0])\n",
    "\n",
    "# tfidf feature from train_pre1\n",
    "tidf_train_pre1 = conv_vector(train_pre1)\n",
    "tidf_train_pre1_dep = conv_vector(train_pre1[train_pre1.label==1])\n",
    "tidf_train_pre1_nonDep = conv_vector(train_pre1[train_pre1.label==0])\n",
    "\n",
    "# tfidf feature from train_pre2\n",
    "tidf_train_pre2 = conv_vector(train_pre2)\n",
    "tidf_train_pre2_dep = conv_vector(train_pre2[train_pre2.label==1])\n",
    "tidf_train_pre2_nonDep = conv_vector(train_pre2[train_pre2.label==0])\n",
    "\n",
    "\n",
    "#========= stemmed and lemma ============#\n",
    "\n",
    "# tfidf feature from train_pre1_stemmed\n",
    "tidf_train_pre1_stemmed = conv_vector(train_pre1_stemmed)\n",
    "tidf_train_pre1_stemmed_dep = conv_vector(train_pre1_stemmed[train_pre1_stemmed.label==1])\n",
    "tidf_train_pre1_stemmed_nonDep = conv_vector(train_pre1_stemmed[train_pre1_stemmed.label==0])\n",
    "\n",
    "# tfidf feature from train_pre1_lemma\n",
    "tidf_train_pre1_lemma = conv_vector(train_pre1_lemma)\n",
    "tidf_train_pre1_lemma_dep = conv_vector(train_pre1_lemma[train_pre1_lemma.label==1])\n",
    "tidf_train_pre1_lemma_nonDep = conv_vector(train_pre1_lemma[train_pre1_lemma.label==0])\n",
    "\n",
    "# tfidf feature from train_pre2_stemmed\n",
    "tidf_train_pre2_stemmed = conv_vector(train_pre2_stemmed)\n",
    "tidf_train_pre2_stemmed_dep = conv_vector(train_pre2_stemmed[train_pre2_stemmed.label==1])\n",
    "tidf_train_pre2_stemmed_nonDep = conv_vector(train_pre2_stemmed[train_pre2_stemmed.label==0])\n",
    "\n",
    "# tfidf feature from train_pre2_lemma\n",
    "tidf_train_pre2_lemma = conv_vector(train_pre2_lemma)\n",
    "tidf_train_pre2_lemma_dep = conv_vector(train_pre2_lemma[train_pre2_lemma.label==1])\n",
    "tidf_train_pre2_lemma_nonDep = conv_vector(train_pre2_lemma[train_pre2_lemma.label==0])"
   ]
  },
  {
   "cell_type": "code",
   "execution_count": 12,
   "metadata": {},
   "outputs": [
    {
     "data": {
      "text/plain": [
       "(3376, 2)"
      ]
     },
     "execution_count": 12,
     "metadata": {},
     "output_type": "execute_result"
    }
   ],
   "source": [
    "tidf_train_pre2.shape"
   ]
  },
  {
   "cell_type": "code",
   "execution_count": 10,
   "metadata": {},
   "outputs": [
    {
     "data": {
      "text/html": [
       "<div>\n",
       "<style scoped>\n",
       "    .dataframe tbody tr th:only-of-type {\n",
       "        vertical-align: middle;\n",
       "    }\n",
       "\n",
       "    .dataframe tbody tr th {\n",
       "        vertical-align: top;\n",
       "    }\n",
       "\n",
       "    .dataframe thead th {\n",
       "        text-align: right;\n",
       "    }\n",
       "</style>\n",
       "<table border=\"1\" class=\"dataframe\">\n",
       "  <thead>\n",
       "    <tr style=\"text-align: right;\">\n",
       "      <th></th>\n",
       "      <th>feature</th>\n",
       "      <th>tfidf</th>\n",
       "    </tr>\n",
       "  </thead>\n",
       "  <tbody>\n",
       "    <tr>\n",
       "      <td>1106</td>\n",
       "      <td>fed</td>\n",
       "      <td>0.0</td>\n",
       "    </tr>\n",
       "    <tr>\n",
       "      <td>510</td>\n",
       "      <td>chatting</td>\n",
       "      <td>0.0</td>\n",
       "    </tr>\n",
       "    <tr>\n",
       "      <td>65</td>\n",
       "      <td>affects</td>\n",
       "      <td>0.0</td>\n",
       "    </tr>\n",
       "    <tr>\n",
       "      <td>1305</td>\n",
       "      <td>gpa</td>\n",
       "      <td>0.0</td>\n",
       "    </tr>\n",
       "    <tr>\n",
       "      <td>3340</td>\n",
       "      <td>wanting</td>\n",
       "      <td>0.0</td>\n",
       "    </tr>\n",
       "  </tbody>\n",
       "</table>\n",
       "</div>"
      ],
      "text/plain": [
       "       feature  tfidf\n",
       "1106       fed    0.0\n",
       "510   chatting    0.0\n",
       "65     affects    0.0\n",
       "1305       gpa    0.0\n",
       "3340   wanting    0.0"
      ]
     },
     "execution_count": 10,
     "metadata": {},
     "output_type": "execute_result"
    }
   ],
   "source": [
    "# Preview dataframe fitur tfidf train_pre1\n",
    "tidf_train_pre1.sample(5)"
   ]
  },
  {
   "cell_type": "markdown",
   "metadata": {},
   "source": [
    "# Export all tfidf features to csv file"
   ]
  },
  {
   "cell_type": "code",
   "execution_count": 11,
   "metadata": {},
   "outputs": [],
   "source": [
    "m_name = 'C:/Users/ASUS/Documents/Learn Data Science/all_dataset/tfidf_features/fitur_'\n",
    "\n",
    "# tfidf feature from train_ori\n",
    "# export_data(tidf_train_ori, m_name+'ori')\n",
    "# export_data(tidf_train_ori_dep, m_name+'ori_dep')\n",
    "# export_data(tidf_train_ori_nonDep, m_name+'ori_nonDep')\n",
    "\n",
    "# # tfidf feature from train_pre1\n",
    "# export_data(tidf_train_pre1, m_name+'pre1')\n",
    "# export_data(tidf_train_pre1_dep, m_name+'pre1_dep')\n",
    "# export_data(tidf_train_pre1_nonDep, m_name+'pre1_nonDep')\n",
    "\n",
    "# # tfidf feature from train_pre2\n",
    "# export_data(tidf_train_pre2, m_name+'pre2')\n",
    "# export_data(tidf_train_pre2_dep, m_name+'pre2_dep')\n",
    "# export_data(tidf_train_pre2_nonDep, m_name+'pre2_nonDep')\n",
    " \n",
    "# # ========= stemmed and lemma ============ #\n",
    "\n",
    "# # tfidf feature from train_pre1_stemmed\n",
    "# export_data(tidf_train_pre1_stemmed, m_name+'pre1_stemmed')\n",
    "# export_data(tidf_train_pre1_stemmed_dep, m_name+'pre1_stemmed_dep')\n",
    "# export_data(tidf_train_pre1_stemmed_nonDep, m_name+'pre1_stemmed_nonDep')\n",
    "\n",
    "# # tfidf feature from train_pre1_lemma\n",
    "# export_data(tidf_train_pre1_lemma, m_name+'pre1_lemma')\n",
    "# export_data(tidf_train_pre1_lemma_dep, m_name+'pre1_lemma_dep')\n",
    "# export_data(tidf_train_pre1_lemma_nonDep, m_name+'pre1_lemma_nonDep')\n",
    "\n",
    "# # tfidf feature from train_pre2_stemmed\n",
    "# export_data(tidf_train_pre2_stemmed, m_name+'pre2_stemmed')\n",
    "# export_data(tidf_train_pre2_stemmed_dep, m_name+'pre2_stemmed_dep')\n",
    "# export_data(tidf_train_pre2_stemmed_nonDep, m_name+'pre2_stemmed_nonDep')\n",
    "\n",
    "# # tfidf feature from train_pre2_lemma\n",
    "# export_data(tidf_train_pre2_lemma, m_name+'pre2_lemma')\n",
    "# export_data(tidf_train_pre2_lemma_dep, m_name+'pre2_lemma_dep')\n",
    "# export_data(tidf_train_pre2_lemma_nonDep, m_name+'pre2_lemma_nonDep')"
   ]
  },
  {
   "cell_type": "code",
   "execution_count": null,
   "metadata": {},
   "outputs": [],
   "source": []
  }
 ],
 "metadata": {
  "kernelspec": {
   "display_name": "Python 3",
   "language": "python",
   "name": "python3"
  },
  "language_info": {
   "codemirror_mode": {
    "name": "ipython",
    "version": 3
   },
   "file_extension": ".py",
   "mimetype": "text/x-python",
   "name": "python",
   "nbconvert_exporter": "python",
   "pygments_lexer": "ipython3",
   "version": "3.7.4"
  }
 },
 "nbformat": 4,
 "nbformat_minor": 2
}
